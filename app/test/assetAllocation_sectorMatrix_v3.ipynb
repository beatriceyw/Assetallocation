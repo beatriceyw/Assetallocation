{
 "cells": [
  {
   "cell_type": "code",
   "execution_count": 1,
   "metadata": {},
   "outputs": [],
   "source": [
    "import pandas as pd\n",
    "import yfinance as yf"
   ]
  },
  {
   "cell_type": "code",
   "execution_count": 2,
   "metadata": {},
   "outputs": [],
   "source": [
    "stock_code_1 = input(\"개별 종목 코드를 입력해주세요.(해외/KS/KQ)\")\n",
    "stock_code_2 = input(\"섹터명을 입력해주세요. \\n (반도체, 반도체장비, 자동차, 은행, 보험, 증권, 철강, 정유, 화학, 음식료, 화장품, 통신, 전기가스, 인터넷, 게임, 배터리, 바이오)\")\n",
    "start_date = input(\"조회 시작일을 입력해주세요.\")\n",
    "end_date = input(\"조회 종료일을 입력해주세요.\")"
   ]
  },
  {
   "cell_type": "code",
   "execution_count": 3,
   "metadata": {},
   "outputs": [],
   "source": [
    "if stock_code_2 == \"반도체\":\n",
    "    sector = [\"semi\"]\n",
    "    # (\"삼성전자\", \"하이닉스\")\n",
    "    semi = [\"005930.KS\", \"000660.KS\"]\n",
    "elif stock_code_2 == \"반도체장비\":\n",
    "    sector = [\"semi_product\"]\n",
    "    # (\"DB하이텍\", \"한미반도체\", \"동진쎄미켐\", \"원익IPS\", \"신성이엔지\", \"리노공업\", \"주성엔지니어링\", \"솔브레인\", \"KEC\", \"하나마이크론\")\n",
    "    # semi_product = [\"000990.KS\", \"042700.KS\", \"005290.KS\", \"240810.KQ\", \"011930.KS\", \"058470.KQ\", \"036930.KQ\", \"036830.KQ\", \"092220.KS\", \"067310.KQ\"]\n",
    "    semi_product = [\"000990.KS\", \"042700.KS\"]\n",
    "elif stock_code_2 == \"자동차\":\n",
    "    sector = [\"automobile\"]\n",
    "    # (\"현대차\", \"기아차\", \"현대모비스\")\n",
    "    automobile = [\"005380.KS\", \"000270.KS\", \"012330.KS\"]\n",
    "elif stock_code_2 == \"은행\":\n",
    "    sector = [\"bank\"]\n",
    "    # (\"KB금융\", \"신한지주\", \"하나금융지주\")\n",
    "    bank = [\"105560.KS\", \"055550.KS\", \"086790.KS\"]\n",
    "elif stock_code_2 == \"보험\":\n",
    "    sector = [\"insurance\"]\n",
    "    # (\"삼성생명\", \"삼성화재\")\n",
    "    insurance = [\"032830.KS\", \"000810.KS\"]\n",
    "elif stock_code_2 == \"증권\":\n",
    "    sector = [\"finance\"]\n",
    "    # (\"삼성증권\", \"미래에셋증권\", \"NH투자증권\")\n",
    "    finance = [\"016360.KS\", \"006800.KS\", \"005940.KS\"]\n",
    "elif stock_code_2 == \"철강\":\n",
    "    sector = [\"steel\"]\n",
    "    # (\"포스코홀딩스?\", \"현대제철\")\n",
    "    steel = [\"005490.KS\", \"004020.KS\"]\n",
    "elif stock_code_2 == \"정유\":\n",
    "    sector = [\"refinery\"]\n",
    "    # (\"sk이노베이션? 지수사\", \"s-oil\", \"gs\")\n",
    "    refinery = [\"096770.KS\", \"010950.KS\", \"078930.KS\"]\n",
    "elif stock_code_2 == \"화학\":\n",
    "    sector = [\"chemistry\"]\n",
    "    # (\"롯데케미칼\", \"lg화학\")\n",
    "    chemistry = [\"011170.KS\", \"051910.KS\"]\n",
    "elif stock_code_2 == \"음식료\":\n",
    "    sector = [\"food\"]\n",
    "    # (\"cj제일제당\", \"농심\", \"오리온\")\n",
    "    food = [\"097950.KS\", \"004370.KS\", \"271560.KS\"]\n",
    "elif stock_code_2 == \"화장품\":\n",
    "    sector = [\"cosmetics\"]\n",
    "    # (\"아모레퍼시픽\", \"코스맥스\", \"한국콜마\")\n",
    "    cosmetics = [\"090430.KS\", \"192820.KS\", \"161890.KS\"]\n",
    "elif stock_code_2 == \"통신\":\n",
    "    sector = [\"communication\"]\n",
    "    # (\"skt\", \"kt\", \"lgu+\")\n",
    "    communication = [\"017670.KS\", \"030200.KS\", \"032640.KS\"]\n",
    "elif stock_code_2 == \"전기가스\":\n",
    "    sector = [\"utility\"]\n",
    "    # (\"한국전력\", \"한국가스공사\", \"한전kps\")\n",
    "    utility = [\"015760.KS\", \"036460.KS\", \"051600.KS\"]\n",
    "elif stock_code_2 == \"인터넷\":\n",
    "    sector = [\"internet\"]\n",
    "    # (\"네이버\", \"카카오\")\n",
    "    internet = [\"035420.KS\", \"035720.KS\"]\n",
    "elif stock_code_2 == \"게임\":\n",
    "    sector = [\"game\"]\n",
    "    # (\"넷마블\", \"엔씨소프트\", \"컴투스\", \"크레프톤\", \"위메이드\")\n",
    "    game = [\"251270.KS\", \"036570.KS\", \"078340.KQ\", \"259960.KS\", \"112040.KQ\"]\n",
    "elif stock_code_2 == \"배터리\":\n",
    "    sector = [\"battery\"]\n",
    "    # (\"lg에너지솔루션\", \"삼성sdi\", \"에코프로\", \"에코프로비엠\", \"포스코퓨처엠\")\n",
    "    battery = [\"373220.KS\", \"006400.KS\", \"086520.KQ\", \"247540.KQ\", \"003670.KS\"]\n",
    "elif stock_code_2 == \"바이오\":\n",
    "    sector = [\"bio\"]\n",
    "    # (\"한미약품\", \"유한양행\", \"대웅제약\", \"삼성바이오로직스\", \"셀트리온\", \"종근당\", \"sk바이오사이언스\")\n",
    "    bio = [\"128940.KS\", \"000100.KS\", \"069620.KS\", \"207940.KS\", \"068270.KS\", \"001630.KS\", \"302440.KS\"]"
   ]
  },
  {
   "cell_type": "markdown",
   "metadata": {},
   "source": []
  },
  {
   "cell_type": "code",
   "execution_count": 4,
   "metadata": {},
   "outputs": [
    {
     "name": "stderr",
     "output_type": "stream",
     "text": [
      "[*********************100%%**********************]  1 of 1 completed\n",
      "[*********************100%%**********************]  3 of 3 completed"
     ]
    },
    {
     "name": "stdout",
     "output_type": "stream",
     "text": [
      "            005930.KS  automobile\n",
      "Date                             \n",
      "2022-02-21        NaN         NaN\n",
      "2022-02-28   0.013908        0.01\n",
      "2022-03-07  -0.039780       -0.06\n",
      "2022-03-14   0.010000        0.02\n",
      "2022-03-21  -0.012730        0.00\n",
      "...               ...         ...\n",
      "2024-01-22  -0.017403        0.04\n",
      "2024-01-29   0.024523        0.21\n",
      "2024-02-05  -0.014628        0.01\n",
      "2024-02-12  -0.017544        0.01\n",
      "2024-02-19   0.004121        0.02\n",
      "\n",
      "[105 rows x 2 columns]\n"
     ]
    },
    {
     "name": "stderr",
     "output_type": "stream",
     "text": [
      "\n"
     ]
    },
    {
     "data": {
      "text/html": [
       "<div>\n",
       "<style scoped>\n",
       "    .dataframe tbody tr th:only-of-type {\n",
       "        vertical-align: middle;\n",
       "    }\n",
       "\n",
       "    .dataframe tbody tr th {\n",
       "        vertical-align: top;\n",
       "    }\n",
       "\n",
       "    .dataframe thead th {\n",
       "        text-align: right;\n",
       "    }\n",
       "</style>\n",
       "<table border=\"1\" class=\"dataframe\">\n",
       "  <thead>\n",
       "    <tr style=\"text-align: right;\">\n",
       "      <th></th>\n",
       "      <th>005930.KS</th>\n",
       "      <th>automobile</th>\n",
       "    </tr>\n",
       "  </thead>\n",
       "  <tbody>\n",
       "    <tr>\n",
       "      <th>005930.KS</th>\n",
       "      <td>1.00</td>\n",
       "      <td>0.38</td>\n",
       "    </tr>\n",
       "    <tr>\n",
       "      <th>automobile</th>\n",
       "      <td>0.38</td>\n",
       "      <td>1.00</td>\n",
       "    </tr>\n",
       "  </tbody>\n",
       "</table>\n",
       "</div>"
      ],
      "text/plain": [
       "            005930.KS  automobile\n",
       "005930.KS        1.00        0.38\n",
       "automobile       0.38        1.00"
      ]
     },
     "execution_count": 4,
     "metadata": {},
     "output_type": "execute_result"
    }
   ],
   "source": [
    "pxclose = pd.DataFrame()\n",
    "\n",
    "pxclose[stock_code_1] = yf.download(stock_code_1, interval='1wk', start = start_date, end = end_date)['Adj Close'].pct_change(fill_method=None)\n",
    "\n",
    "for index, value in enumerate(sector):\n",
    "    pxclose[value] = yf.download(eval(f'{value}'), interval='1wk', start = start_date, end = end_date)['Adj Close'].pct_change(fill_method=None).mean(axis='columns').round(2)\n",
    "\n",
    "\n",
    "print(pxclose)\n",
    "pxclose.corr().round(2)"
   ]
  }
 ],
 "metadata": {
  "kernelspec": {
   "display_name": "Python 3",
   "language": "python",
   "name": "python3"
  },
  "language_info": {
   "codemirror_mode": {
    "name": "ipython",
    "version": 3
   },
   "file_extension": ".py",
   "mimetype": "text/x-python",
   "name": "python",
   "nbconvert_exporter": "python",
   "pygments_lexer": "ipython3",
   "version": "3.11.8"
  }
 },
 "nbformat": 4,
 "nbformat_minor": 2
}
