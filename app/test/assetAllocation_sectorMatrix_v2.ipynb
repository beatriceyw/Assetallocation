{
 "cells": [
  {
   "cell_type": "code",
   "execution_count": 12,
   "metadata": {},
   "outputs": [],
   "source": [
    "import pandas as pd\n",
    "import yfinance as yf"
   ]
  },
  {
   "cell_type": "code",
   "execution_count": 13,
   "metadata": {},
   "outputs": [],
   "source": [
    "stock_code_1 = input(\"개별 종목 코드를 입력해주세요.(해외/KS/KQ)\")\n",
    "stock_code_2 = input(\"개별 종목 코드를 입력해주세요.(해외/KS/KQ)\")\n",
    "start_date = input(\"조회 시작일을 입력해주세요.\")\n",
    "end_date = input(\"조회 종료일을 입력해주세요.\")"
   ]
  },
  {
   "cell_type": "code",
   "execution_count": 14,
   "metadata": {},
   "outputs": [
    {
     "name": "stderr",
     "output_type": "stream",
     "text": [
      "[*********************100%%**********************]  2 of 2 completed"
     ]
    },
    {
     "name": "stdout",
     "output_type": "stream",
     "text": [
      "Ticker      005930.KS      ASML\n",
      "Date                           \n",
      "2022-02-21        NaN       NaN\n",
      "2022-02-28   0.013908 -0.109126\n",
      "2022-03-07  -0.039781 -0.014252\n",
      "2022-03-14   0.010000  0.160468\n",
      "2022-03-21  -0.012730  0.011032\n",
      "...               ...       ...\n",
      "2024-01-22  -0.017403  0.145046\n",
      "2024-01-29   0.024523  0.026402\n",
      "2024-02-05  -0.014628  0.066176\n",
      "2024-02-12  -0.017544 -0.020045\n",
      "2024-02-19   0.004121  0.024662\n",
      "\n",
      "[105 rows x 2 columns]\n"
     ]
    },
    {
     "name": "stderr",
     "output_type": "stream",
     "text": [
      "\n"
     ]
    },
    {
     "data": {
      "text/html": [
       "<div>\n",
       "<style scoped>\n",
       "    .dataframe tbody tr th:only-of-type {\n",
       "        vertical-align: middle;\n",
       "    }\n",
       "\n",
       "    .dataframe tbody tr th {\n",
       "        vertical-align: top;\n",
       "    }\n",
       "\n",
       "    .dataframe thead th {\n",
       "        text-align: right;\n",
       "    }\n",
       "</style>\n",
       "<table border=\"1\" class=\"dataframe\">\n",
       "  <thead>\n",
       "    <tr style=\"text-align: right;\">\n",
       "      <th>Ticker</th>\n",
       "      <th>005930.KS</th>\n",
       "      <th>ASML</th>\n",
       "    </tr>\n",
       "    <tr>\n",
       "      <th>Ticker</th>\n",
       "      <th></th>\n",
       "      <th></th>\n",
       "    </tr>\n",
       "  </thead>\n",
       "  <tbody>\n",
       "    <tr>\n",
       "      <th>005930.KS</th>\n",
       "      <td>1.0</td>\n",
       "      <td>0.4</td>\n",
       "    </tr>\n",
       "    <tr>\n",
       "      <th>ASML</th>\n",
       "      <td>0.4</td>\n",
       "      <td>1.0</td>\n",
       "    </tr>\n",
       "  </tbody>\n",
       "</table>\n",
       "</div>"
      ],
      "text/plain": [
       "Ticker     005930.KS  ASML\n",
       "Ticker                    \n",
       "005930.KS        1.0   0.4\n",
       "ASML             0.4   1.0"
      ]
     },
     "execution_count": 14,
     "metadata": {},
     "output_type": "execute_result"
    }
   ],
   "source": [
    "stock_code_list = [stock_code_1, stock_code_2]\n",
    "\n",
    "pxclose = pd.DataFrame()\n",
    "sector_matrix = pd.DataFrame(columns = stock_code_list)\n",
    "\n",
    "pxclose = yf.download(stock_code_list, interval='1wk', start = start_date, end = end_date)['Adj Close'].pct_change(fill_method=None)\n",
    "\n",
    "print(pxclose)\n",
    "pxclose.corr().round(2)"
   ]
  }
 ],
 "metadata": {
  "kernelspec": {
   "display_name": "Python 3",
   "language": "python",
   "name": "python3"
  },
  "language_info": {
   "codemirror_mode": {
    "name": "ipython",
    "version": 3
   },
   "file_extension": ".py",
   "mimetype": "text/x-python",
   "name": "python",
   "nbconvert_exporter": "python",
   "pygments_lexer": "ipython3",
   "version": "3.11.8"
  }
 },
 "nbformat": 4,
 "nbformat_minor": 2
}
