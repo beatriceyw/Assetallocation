{
 "cells": [
  {
   "cell_type": "markdown",
   "metadata": {},
   "source": [
    "### assetAllocation v4\n",
    "\n",
    "- python version: 3.8.18\n",
    "\n",
    "> 03.25 교수님 피드백 적용\n",
    "- HHI 지수 추가\n",
    "- volatility 연간으로 계산 후 평균화\n"
   ]
  },
  {
   "cell_type": "markdown",
   "metadata": {},
   "source": []
  },
  {
   "cell_type": "code",
   "execution_count": 1,
   "metadata": {},
   "outputs": [],
   "source": [
    "import numpy as np\n",
    "import pandas as pd\n",
    "import yfinance as yf\n",
    "import plotly.express as px"
   ]
  },
  {
   "cell_type": "code",
   "execution_count": 2,
   "metadata": {},
   "outputs": [
    {
     "name": "stderr",
     "output_type": "stream",
     "text": [
      "[*********************100%%**********************]  1 of 1 completed\n",
      "[*********************100%%**********************]  1 of 1 completed\n",
      "[*********************100%%**********************]  1 of 1 completed\n",
      "[*********************100%%**********************]  1 of 1 completed\n",
      "[*********************100%%**********************]  1 of 1 completed\n",
      "[*********************100%%**********************]  1 of 1 completed\n",
      "[*********************100%%**********************]  1 of 1 completed\n"
     ]
    },
    {
     "ename": "NameError",
     "evalue": "name 'IGLB' is not defined",
     "output_type": "error",
     "traceback": [
      "\u001b[1;31m---------------------------------------------------------------------------\u001b[0m",
      "\u001b[1;31mNameError\u001b[0m                                 Traceback (most recent call last)",
      "Cell \u001b[1;32mIn[2], line 12\u001b[0m\n\u001b[0;32m      9\u001b[0m pxclose\u001b[38;5;241m.\u001b[39mhead()\n\u001b[0;32m     11\u001b[0m \u001b[38;5;28;01mfor\u001b[39;00m t \u001b[38;5;129;01min\u001b[39;00m tickers:\n\u001b[1;32m---> 12\u001b[0m     start_price_spy \u001b[38;5;241m=\u001b[39m pxclose[\u001b[38;5;28;43meval\u001b[39;49m\u001b[43m(\u001b[49m\u001b[38;5;124;43mf\u001b[39;49m\u001b[38;5;124;43m'\u001b[39;49m\u001b[38;5;132;43;01m{\u001b[39;49;00m\u001b[43mt\u001b[49m\u001b[38;5;132;43;01m}\u001b[39;49;00m\u001b[38;5;124;43m'\u001b[39;49m\u001b[43m)\u001b[49m][\u001b[38;5;241m0\u001b[39m]\n\u001b[0;32m     13\u001b[0m     end_price_spy \u001b[38;5;241m=\u001b[39m pxclose[\u001b[38;5;28meval\u001b[39m(\u001b[38;5;124mf\u001b[39m\u001b[38;5;124m'\u001b[39m\u001b[38;5;132;01m{\u001b[39;00mt\u001b[38;5;132;01m}\u001b[39;00m\u001b[38;5;124m'\u001b[39m)][\u001b[38;5;241m-\u001b[39m\u001b[38;5;241m1\u001b[39m]\n\u001b[0;32m     14\u001b[0m     total_return_spy \u001b[38;5;241m=\u001b[39m \u001b[38;5;28mround\u001b[39m((end_price_spy \u001b[38;5;241m-\u001b[39m start_price_spy) \u001b[38;5;241m/\u001b[39m start_price_spy, \u001b[38;5;241m2\u001b[39m)\n",
      "File \u001b[1;32m<string>:1\u001b[0m\n",
      "\u001b[1;31mNameError\u001b[0m: name 'IGLB' is not defined"
     ]
    }
   ],
   "source": [
    "tickers = ['IGLB', 'HYG', 'SPY', 'MBB','BOTZ','ICLN','PAVE']\n",
    "\n",
    "pxclose = pd.DataFrame()\n",
    "\n",
    "for t in tickers:\n",
    "    pxclose[t] = yf.download(t, start = \"2010-01-01\")['Adj Close']\n",
    "\n",
    "\"\"\" pxclose matrix의 최근 자료들 열람한다.\"\"\"\n",
    "pxclose.head()\n",
    "\n",
    "for t in tickers:\n",
    "    start_price_spy = pxclose[eval(f'{t}')][0]\n",
    "    end_price_spy = pxclose[eval(f'{t}')][-1]\n",
    "    total_return_spy = round((end_price_spy - start_price_spy) / start_price_spy, 2)\n",
    "    num_years_spy = len(pxclose[t]) / 252 # 1년은 주식 시장의 거래일인 252일로 가정\n",
    "    average_annual_return_spy = round((1 + total_return_spy) ** (1 / num_years_spy) - 1, 2)\n",
    "    pxclose[t] = average_annual_return_spy\n",
    "\n",
    "\n",
    "\"\"\" pxclose matrix의 최근 자료들 열람한다.\"\"\"\n",
    "pxclose.head()\n"
   ]
  },
  {
   "cell_type": "code",
   "execution_count": null,
   "metadata": {},
   "outputs": [
    {
     "name": "stderr",
     "output_type": "stream",
     "text": [
      "C:\\Users\\82108\\AppData\\Local\\Temp\\ipykernel_20488\\3191368505.py:4: FutureWarning:\n",
      "\n",
      "'Y' is deprecated and will be removed in a future version, please use 'YE' instead.\n",
      "\n",
      "C:\\Users\\82108\\AppData\\Local\\Temp\\ipykernel_20488\\3191368505.py:6: FutureWarning:\n",
      "\n",
      "'Y' is deprecated and will be removed in a future version, please use 'YE' instead.\n",
      "\n"
     ]
    },
    {
     "data": {
      "text/plain": [
       "IGLB    0.045722\n",
       "HYG     0.049059\n",
       "SPY     0.133637\n",
       "MBB     0.015066\n",
       "BOTZ    0.115171\n",
       "ICLN    0.023406\n",
       "PAVE    0.156595\n",
       "dtype: float64"
      ]
     },
     "execution_count": 9,
     "metadata": {},
     "output_type": "execute_result"
    }
   ],
   "source": [
    "# 일간수익률의 1년 중 시장이 열리는 일수를 곱해 기대수익률을 만든다.\n",
    "ret_daily = pxclose.pct_change() # 일간수익률\n",
    "\n",
    "yearly_count = ret_daily.resample('Y').count() # 각 연도별 데이터 포인트 개수\n",
    "\n",
    "ret_annual = ret_daily.resample('Y').mean()\n",
    "\n",
    "for year in yearly_count.index.year:\n",
    "    count = yearly_count.loc[str(year)].max() # 해당 연도의 데이터 포인트 개수\n",
    "    # 해당 연도의 데이터에 개수를 곱함\n",
    "    ret_annual.loc[ret_annual.index.year == year] *= count\n",
    "\n",
    "ret_annual_mean = ret_annual.mean()\n",
    "ret_annual_mean"
   ]
  },
  {
   "cell_type": "code",
   "execution_count": null,
   "metadata": {},
   "outputs": [
    {
     "name": "stdout",
     "output_type": "stream",
     "text": [
      "          IGLB       HYG       SPY       MBB       BOTZ       ICLN       PAVE\n",
      "BOTZ  2.003112  3.428431  8.543526  0.608045  13.683727  10.293305  10.966728\n",
      "HYG   0.702292  1.783757  2.739217  0.225566   3.428431   3.477380   3.618466\n",
      "ICLN  0.799200  3.477380  7.975707  0.333123  10.293305  17.738215  10.317582\n",
      "IGLB  3.240094  0.702292  0.407007  0.807178   2.003112   0.799200   1.554880\n",
      "MBB   0.807178  0.225566  0.114462  0.434913   0.608045   0.333123   0.399639\n",
      "PAVE  1.554880  3.618466  9.018902  0.399639  10.966728  10.317582  13.931328\n",
      "SPY   0.407007  2.739217  7.083442  0.114462   8.543526   7.975707   9.018902\n"
     ]
    }
   ],
   "source": [
    "# 연도별로 데이터 분리 및 연도별 공분산 계산\n",
    "annual_cov_list = []\n",
    "for year, group in ret_daily.groupby(ret_daily.index.year):\n",
    "    # 각 컬럼(티커)의 데이터 개수 계산\n",
    "    counts = group.count()\n",
    "\n",
    "    # 공분산 계산\n",
    "    cov_matrix = group.cov()\n",
    "\n",
    "    # 각 컬럼의 데이터 개수가 0인 경우 해당 컬럼의 공분산 값을 NaN으로 설정\n",
    "    cov_matrix = cov_matrix.multiply(counts, axis='columns').multiply(counts, axis='index')\n",
    "    cov_matrix = np.where(counts == 0, np.nan, cov_matrix)\n",
    "    \n",
    "    # 수정된 공분산 행렬을 리스트에 추가\n",
    "    annual_cov_list.append(pd.DataFrame(cov_matrix, index=group.columns, columns=group.columns))\n",
    "    #print(pd.DataFrame(cov_matrix)) # for debugging\n",
    "\n",
    "# 연도별 공분산의 평균 계산\n",
    "mean_cov_matrix = pd.concat(annual_cov_list).groupby(level=0).mean()\n",
    "\n",
    "print(mean_cov_matrix)"
   ]
  },
  {
   "cell_type": "code",
   "execution_count": null,
   "metadata": {},
   "outputs": [
    {
     "name": "stdout",
     "output_type": "stream",
     "text": [
      "before: 30000\n",
      "after: 29843\n"
     ]
    }
   ],
   "source": [
    "# portfolio 수익률, 변동성, 투자 비중\n",
    "p_returns = []\n",
    "p_volatility = []\n",
    "p_weights = []\n",
    "\n",
    "# len() 함수로 투자자산의 수를 계산한다. \n",
    "n_assets = len(tickers)\n",
    "\n",
    "# n개 종목으로 투자 비중을 바꿔가며 3만 개의 포트폴리오를 만들 것이\n",
    "n_ports = 30000\n",
    "\n",
    "\"\"\"\n",
    "# n_ports 만큼 반복하면서 자신의 투자 비중을 랜덤하게 만들고, 포트폴리오의 기대수익률, 변동성을 계산\n",
    "# 계산한 수익률, 변동성, 투자 비중은 앞서 미리 준비한 변수들인\n",
    "p_returns, p_volatility, p_weights에 저장한다.\n",
    "\"\"\"\n",
    "\n",
    "for s in range(n_ports):\n",
    "    \n",
    "    #np.random.random() 함수로 난수 생성\n",
    "    wgt=np.random.random(n_assets)\n",
    "    #print(f\"weights before: {wgt}\")\n",
    "    \n",
    "    #투자 비중 합계 100%를 위해 각 난수를 난수 합으로 나눈다\n",
    "    wgt /= np.sum(wgt)\n",
    "    #print(f\"weights after: {wgt}\")\n",
    "    \n",
    "    \"\"\"\n",
    "    # portfolio 기대수익률 = 비중 * 각 종목별 기대수익률\n",
    "    # dot product로 계산해 준다. \n",
    "    여기에서 wgt 는 (n,1) vector이며, ret_annual도 (n,1) vector\n",
    "    \"\"\"\n",
    "    ret = np.dot(wgt, ret_annual_mean)\n",
    "    \n",
    "    #portfolio의 변동성을 계산한다. (wgt x covariance matrix x wgt)^(1/2)\n",
    "    vol = np.sqrt(np.dot(wgt.T, np.dot(mean_cov_matrix,wgt)))\n",
    "    \n",
    "    #계산한 수익률, 변동성, 비중을 추가한다. \n",
    "    p_returns.append(ret)\n",
    "    p_volatility.append(vol)\n",
    "    p_weights.append(wgt)\n",
    "\n",
    "HHI_threshold = 3000\n",
    "\n",
    "print(f\"before: {len(p_weights)}\")\n",
    "\n",
    "for i in range(len(p_weights) - 1, -1, -1):  # 리스트를 역순으로 순회\n",
    "    if ((p_weights[i] * 100) ** 2).sum() > HHI_threshold:\n",
    "        del p_returns[i], p_volatility[i], p_weights[i]\n",
    "\n",
    "print(f\"after: {len(p_weights)}\")\n",
    "\n",
    "# HHI 기준을 충족 포트폴리오 개수\n",
    "modif_n_ports = len(p_weights)"
   ]
  },
  {
   "cell_type": "code",
   "execution_count": null,
   "metadata": {},
   "outputs": [
    {
     "ename": "NameError",
     "evalue": "name 'p_volatility' is not defined",
     "output_type": "error",
     "traceback": [
      "\u001b[1;31m---------------------------------------------------------------------------\u001b[0m",
      "\u001b[1;31mNameError\u001b[0m                                 Traceback (most recent call last)",
      "Cell \u001b[1;32mIn[3], line 19\u001b[0m\n\u001b[0;32m      9\u001b[0m \u001b[38;5;124;03m\"\"\"\u001b[39;00m\n\u001b[0;32m     10\u001b[0m \u001b[38;5;124;03m# wgt / = np.sum(wgt) 부분: \u001b[39;00m\n\u001b[0;32m     11\u001b[0m \u001b[38;5;124;03m# /= 왼쪽 변수에 오른쪽 값을 나누고 그 결과를 왼쪽 변수에 할당한다\u001b[39;00m\n\u001b[0;32m     12\u001b[0m \u001b[38;5;124;03m\"\"\"\u001b[39;00m\n\u001b[0;32m     14\u001b[0m \u001b[38;5;66;03m# portfolio volaility 에서 np.dot은 dot product를 의미 \u001b[39;00m\n\u001b[0;32m     15\u001b[0m \u001b[38;5;66;03m# wgt.T 는 wgt의 transpose matrix를 의미 \u001b[39;00m\n\u001b[0;32m     16\u001b[0m \u001b[38;5;66;03m# np.sqrt(a)는 a^(1/2)을 의미 \u001b[39;00m\n\u001b[0;32m     17\u001b[0m \n\u001b[0;32m     18\u001b[0m \u001b[38;5;66;03m# np.array를 사용하여 matrix로 인식시킨다\u001b[39;00m\n\u001b[1;32m---> 19\u001b[0m p_volatility \u001b[38;5;241m=\u001b[39m np\u001b[38;5;241m.\u001b[39marray(\u001b[43mp_volatility\u001b[49m)\u001b[38;5;241m.\u001b[39mround(\u001b[38;5;241m2\u001b[39m)\n\u001b[0;32m     20\u001b[0m p_returns \u001b[38;5;241m=\u001b[39m np\u001b[38;5;241m.\u001b[39marray(p_returns)\n\u001b[0;32m     22\u001b[0m \u001b[38;5;124;03m\"\"\"\u001b[39;00m\n\u001b[0;32m     23\u001b[0m \u001b[38;5;124;03m# 색상을 n_ports 만큼 만든다\u001b[39;00m\n\u001b[0;32m     24\u001b[0m \u001b[38;5;124;03m# random.randint(0, 5)는 수학적 의미에서 [0,5] 구간에 \u001b[39;00m\n\u001b[0;32m     25\u001b[0m \u001b[38;5;124;03m위치한 정수(integer) 중 하나를 random하게 추출한다\u001b[39;00m\n\u001b[0;32m     26\u001b[0m \u001b[38;5;124;03m# random.rnadint(0,5,100) 에서 100은 100개를 추출하라는 뜻이다. \u001b[39;00m\n\u001b[0;32m     27\u001b[0m \u001b[38;5;124;03m\"\"\"\u001b[39;00m\n",
      "\u001b[1;31mNameError\u001b[0m: name 'p_volatility' is not defined"
     ]
    }
   ],
   "source": [
    "\"\"\"\n",
    "# numpy의 random.random(n) 함수는 수학적 의미에서 [0,1] \n",
    "구간에 속하는 난수를 n개 만큼 출력한다\n",
    "# 예를 들어, \n",
    "array([0.61240447, 0.12133946, 0.58294007, 0.33440155, 0.11916194])\n",
    "\"\"\"\n",
    "np.random.random(5)\n",
    "\n",
    "\"\"\"\n",
    "# wgt / = np.sum(wgt) 부분: \n",
    "# /= 왼쪽 변수에 오른쪽 값을 나누고 그 결과를 왼쪽 변수에 할당한다\n",
    "\"\"\"\n",
    "\n",
    "# portfolio volaility 에서 np.dot은 dot product를 의미 \n",
    "# wgt.T 는 wgt의 transpose matrix를 의미 \n",
    "# np.sqrt(a)는 a^(1/2)을 의미 \n",
    "\n",
    "# np.array를 사용하여 matrix로 인식시킨다\n",
    "p_volatility = np.array(p_volatility).round(2)\n",
    "p_returns = np.array(p_returns)\n",
    "\n",
    "\"\"\"\n",
    "# 색상을 n_ports 만큼 만든다\n",
    "# random.randint(0, 5)는 수학적 의미에서 [0,5] 구간에 \n",
    "위치한 정수(integer) 중 하나를 random하게 추출한다\n",
    "# random.rnadint(0,5,100) 에서 100은 100개를 추출하라는 뜻이다. \n",
    "\"\"\"\n",
    "\n",
    "colors=np.random.randint(0, modif_n_ports, modif_n_ports)\n",
    "\n",
    "fig = px.scatter(x=p_volatility, y=p_returns, color=colors, hover_data=[p_weights])\n",
    "fig.update_layout(\n",
    "    title=\"Efficient Frontier for portfolio('IGLB(장기투자채권)', 'HYG(고수익채권)', 'SPY(S&P500)', 'MBB(모기지)','BOTZ(로봇공학, 인공지능)','ICLN(에너지)','PAVE(인프라')\",\n",
    "    xaxis_title=\"volatility\",\n",
    "    yaxis_title=\"returns\"\n",
    ")\n",
    "fig.show()"
   ]
  },
  {
   "cell_type": "markdown",
   "metadata": {},
   "source": [
    "<할일>\n",
    "\n",
    "포트폴리오 도출 기준\n",
    "- 긱 포트폴리오의 HHI값 구하기(well diversified를 위해)\n",
    "    - threshold를 지정해줘야 함.(총 10000 중에 어떤 값인가) - if 숫자가 낮다면-> well diversified, 숫자가 높다면 -> dominant(몰렸다, 독점적이다.)\n",
    "    - threshold에 따라 efficient frontier 시각화가 어떻게 변화하는지 궁금하다(교수님 의견)\n",
    "\n",
    "\n",
    "Expected Return 계산\n",
    "\n",
    "- 채권: (기대)inflation + 실질 수익률(성장) = GDP\n",
    "- 부동산: (연간)배당수익률\n",
    "- Index(주식): 1/PER\n",
    "- Growth(주식): theme 성장률 + alpha(ex: 연 3%로 잡아야 한다(최대한 보수적으로))\n",
    "\n"
   ]
  },
  {
   "cell_type": "code",
   "execution_count": null,
   "metadata": {},
   "outputs": [],
   "source": []
  }
 ],
 "metadata": {
  "kernelspec": {
   "display_name": "Python 3",
   "language": "python",
   "name": "python3"
  },
  "language_info": {
   "codemirror_mode": {
    "name": "ipython",
    "version": 3
   },
   "file_extension": ".py",
   "mimetype": "text/x-python",
   "name": "python",
   "nbconvert_exporter": "python",
   "pygments_lexer": "ipython3",
   "version": "3.11.8"
  }
 },
 "nbformat": 4,
 "nbformat_minor": 2
}
